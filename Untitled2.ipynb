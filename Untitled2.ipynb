{
  "nbformat": 4,
  "nbformat_minor": 0,
  "metadata": {
    "colab": {
      "provenance": [],
      "authorship_tag": "ABX9TyMEeYeKrxUgkgo2RLwYjsZv",
      "include_colab_link": true
    },
    "kernelspec": {
      "name": "python3",
      "display_name": "Python 3"
    },
    "language_info": {
      "name": "python"
    }
  },
  "cells": [
    {
      "cell_type": "markdown",
      "metadata": {
        "id": "view-in-github",
        "colab_type": "text"
      },
      "source": [
        "<a href=\"https://colab.research.google.com/github/duquanghuy/PP/blob/main/Untitled2.ipynb\" target=\"_parent\"><img src=\"https://colab.research.google.com/assets/colab-badge.svg\" alt=\"Open In Colab\"/></a>"
      ]
    },
    {
      "cell_type": "code",
      "execution_count": 1,
      "metadata": {
        "colab": {
          "base_uri": "https://localhost:8080/"
        },
        "id": "w9xFijqx-DxA",
        "outputId": "668f6a1a-fbf1-4c84-b971-9874bdf76d2b"
      },
      "outputs": [
        {
          "output_type": "stream",
          "name": "stdout",
          "text": [
            "Enter your name: huy\n",
            "Enter the course name: btec\n",
            "Enter the grade (0.0 - 4.0): 4\n",
            "Enter the credit for the course: 10\n",
            "Do you want to add another course? (yes/no): yes\n",
            "Enter the course name: fpt\n",
            "Enter the grade (0.0 - 4.0): 3.5\n",
            "Enter the credit for the course: 12\n",
            "Do you want to add another course? (yes/no): no\n",
            "\n",
            "huy's GPA is: 3.73\n",
            "\n",
            "Do you want to view the list of courses, grades, and credits? (yes/no): yes\n",
            "\n",
            "huy's Courses:\n",
            "btec: Grade = 4.0, Credit = 10.0\n",
            "fpt: Grade = 3.5, Credit = 12.0\n"
          ]
        }
      ],
      "source": [
        "# Function to calculate GPA\n",
        "def calculate_gpa(grades, credits):\n",
        "    try:\n",
        "        total_points = sum(grade * credit for grade, credit in zip(grades, credits))\n",
        "        total_credits = sum(credits)\n",
        "        if total_credits == 0:\n",
        "            raise ValueError(\"Total credits cannot be zero.\")\n",
        "        gpa = total_points / total_credits\n",
        "        return round(gpa, 2)\n",
        "    except Exception as e:\n",
        "        print(f\"Error calculating GPA: {e}\")\n",
        "        return None\n",
        "\n",
        "# Function to get valid grade input\n",
        "def get_valid_grade():\n",
        "    while True:\n",
        "        try:\n",
        "            grade = float(input(\"Enter the grade (0.0 - 10.0): \"))\n",
        "            if 0.0 <= grade <= 10.0:\n",
        "                return grade\n",
        "            else:\n",
        "                print(\"Invalid grade. Must be between 0.0 and 10.0.\")\n",
        "        except ValueError:\n",
        "            print(\"Invalid input. Please enter a number.\")\n",
        "\n",
        "# Function to get valid credit input\n",
        "def get_valid_credit():\n",
        "    while True:\n",
        "        try:\n",
        "            credit = float(input(\"Enter the credit for the course: \"))\n",
        "            if credit > 0:\n",
        "                return credit\n",
        "            else:\n",
        "                print(\"Invalid credit. Must be greater than 0.\")\n",
        "        except ValueError:\n",
        "            print(\"Invalid input. Please enter a number.\")\n",
        "\n",
        "# Function to print GPA and give an option to view the list of courses\n",
        "def print_gpa(student_name, gpa, courses, grades, credits):\n",
        "    print(f\"\\n{student_name}'s GPA is: {gpa}\\n\")\n",
        "\n",
        "    # Asking if the user wants to view the list of courses\n",
        "    view_list = input(\"Do you want to view the list of courses, grades, and credits? (yes/no): \").strip().lower()\n",
        "\n",
        "    if view_list == 'yes':\n",
        "        print(f\"\\n{student_name}'s Courses:\")\n",
        "        for course, grade, credit in zip(courses, grades, credits):\n",
        "            print(f\"{course}: Grade = {grade}, Credit = {credit}\")\n",
        "    else:\n",
        "        print(\"You chose not to view the list.\")\n",
        "\n",
        "# Main function to run the GPA calculator\n",
        "def main():\n",
        "    student_name = input(\"Enter your name: \").strip()\n",
        "\n",
        "    if not student_name.isalpha():\n",
        "        print(\"Invalid name. Please enter a valid name.\")\n",
        "        return\n",
        "\n",
        "    courses = []\n",
        "    grades = []\n",
        "    credits = []\n",
        "\n",
        "    while True:\n",
        "        course = input(\"Enter the course name: \").strip()\n",
        "        courses.append(course)\n",
        "\n",
        "        grade = get_valid_grade()\n",
        "        credit = get_valid_credit()\n",
        "        grades.append(grade)\n",
        "        credits.append(credit)\n",
        "\n",
        "        more_courses = input(\"Do you want to add another course? (yes/no): \").strip().lower()\n",
        "        if more_courses == 'no':\n",
        "            break\n",
        "\n",
        "    gpa = calculate_gpa(grades, credits)\n",
        "\n",
        "    if gpa is not None:\n",
        "        print_gpa(student_name, gpa, courses, grades, credits)\n",
        "    else:\n",
        "        print(\"Unable to calculate GPA due to an error.\")\n",
        "\n",
        "if __name__ == \"__main__\":\n",
        "    main()\n"
      ]
    }
  ]
}